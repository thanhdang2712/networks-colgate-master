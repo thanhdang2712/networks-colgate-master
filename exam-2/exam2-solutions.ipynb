{
 "cells": [
  {
   "cell_type": "code",
   "execution_count": 58,
   "metadata": {},
   "outputs": [],
   "source": [
    "import networkx as nx\n",
    "import math\n",
    "from matplotlib import pyplot as plt\n",
    "import numpy as np"
   ]
  },
  {
   "cell_type": "markdown",
   "metadata": {},
   "source": [
    "# Coauthorship Network Analysis"
   ]
  },
  {
   "cell_type": "markdown",
   "metadata": {},
   "source": [
    "In problem you will analyze a real social network representing the coauthorships of scientists working on network theory and experiment. First, read the data\n",
    "from the `netscience.gml` file."
   ]
  },
  {
   "cell_type": "code",
   "execution_count": 4,
   "metadata": {},
   "outputs": [],
   "source": [
    "# Read the graph.\n",
    "G = nx.read_gml(\"netscience.gml\")"
   ]
  },
  {
   "cell_type": "markdown",
   "metadata": {},
   "source": [
    "Extract the giant component and create an unweighted graph."
   ]
  },
  {
   "cell_type": "code",
   "execution_count": 9,
   "metadata": {},
   "outputs": [],
   "source": [
    "largest_cc = max(nx.connected_components(G), key=len)\n",
    "G = G.subgraph(largest_cc).copy()"
   ]
  },
  {
   "cell_type": "markdown",
   "metadata": {},
   "source": [
    "Use Gephi to visualize the graph."
   ]
  },
  {
   "cell_type": "markdown",
   "metadata": {},
   "source": [
    "Compute the following statistics:\n",
    "- average path length (report it)\n",
    "- average clustering coefficient (report it)\n",
    "- degree distribution (plot it using linear axis and the log-log scale)"
   ]
  },
  {
   "cell_type": "code",
   "execution_count": 38,
   "metadata": {},
   "outputs": [
    {
     "data": {
      "text/plain": [
       "[Text(0.5, 0, 'Degree'), Text(0, 0.5, 'Count')]"
      ]
     },
     "execution_count": 38,
     "metadata": {},
     "output_type": "execute_result"
    },
    {
     "data": {
      "image/png": "[encoded data removed]",
      "text/plain": [
       "<Figure size 432x288 with 2 Axes>"
      ]
     },
     "metadata": {
      "needs_background": "light"
     },
     "output_type": "display_data"
    }
   ],
   "source": [
    "# Average path length\n",
    "p_len = nx.average_shortest_path_length(G)\n",
    "\n",
    "# Average clustering coefficient\n",
    "cluster_coef = nx.average_clustering(G)\n",
    "\n",
    "# Degree distribution\n",
    "degree_sequence = sorted((d for n, d in G.degree()), reverse=True)\n",
    "\n",
    "fig, (ax1, ax2) = plt.subplots(1, 2)\n",
    "fig.suptitle('Degree Distribution')\n",
    "ax1.bar(*np.unique(degree_sequence, return_counts=True))\n",
    "ax1.set(xlabel = \"Degree\", ylabel=\"Count\")\n",
    "\n",
    "ax2.loglog(*np.unique(degree_sequence, return_counts=True))\n",
    "ax2.set(xlabel = \"Degree\", ylabel=\"Count\")"
   ]
  },
  {
   "cell_type": "markdown",
   "metadata": {},
   "source": [
    "Construct graphs from the following network models using the indicated parameters and compute the above statistics for each one of them:\n",
    "- ER-random graph (use G(n, m) with n = 379 and m is the number of edges in G\n",
    "- Configuration model (n = 379 and degree sequence as computed in part (b))\n",
    "- BA-graph with $n_0 = 10, p_0 = 0.6$ and $m_0 = d/2$ "
   ]
  },
  {
   "cell_type": "code",
   "execution_count": 61,
   "metadata": {},
   "outputs": [],
   "source": [
    "# Erdos-Renyi\n",
    "er = nx.gnm_random_graph(n = 379, m = G.number_of_edges())\n",
    "\n",
    "# Configuration\n",
    "conf = nx.configuration_model(degree_sequence)\n",
    "\n",
    "# Barabasi-Albert\n",
    "initial = nx.gnp_random_graph(n = 10, p = 0.6)\n",
    "d = math.floor(sum([v[1] for _,v in enumerate(G.degree())])/len(G.nodes())/2)\n",
    "ba = nx.barabasi_albert_graph(n = 379, m = d, initial_graph = initial)\n"
   ]
  },
  {
   "cell_type": "markdown",
   "metadata": {},
   "source": [
    "Report average path length and average clustering coefficient (for the real social network as computed in (b) and all models as computed in (c)) in a table and compare them. Include both versions for the plots of the degree distributions for all models and the real data – try to put them all one one page for easier comparison. Which model models G best for which statistics? Argue whether there is a clear \"best\" model that represents the coauthorship network most accurately"
   ]
  },
  {
   "cell_type": "code",
   "execution_count": 74,
   "metadata": {},
   "outputs": [
    {
     "name": "stdout",
     "output_type": "stream",
     "text": [
      "Graph \t\t\t Average Path Length \t Average Clustering Coefficient\n",
      "Erdos-Renyi \t\t 3.9464981093741183 \t 0.01110460420805248\n",
      "Configuration \t\t 3.756123370393363 \t 0.017848784903197606\n",
      "Barabasi-Albert \t 3.6403093632645085 \t 0.03344414937499554\n"
     ]
    }
   ],
   "source": [
    "print(\"Graph \\t\\t\\t Average Path Length \\t Average Clustering Coefficient\")\n",
    "for graph, name in [(er, \"Erdos-Renyi\"), (conf, \"Configuration\"), (ba, \"Barabasi-Albert\")]:\n",
    "    if nx.is_connected(graph):\n",
    "        p = nx.average_shortest_path_length(graph)\n",
    "        coef = nx.average_clustering(graph)\n",
    "        print(f\"{name} \\t {p} \\t {coef}\")\n",
    "    else:\n",
    "        lcc = max(nx.connected_components(graph), key=len)\n",
    "        sub_g = graph.subgraph(lcc).copy()\n",
    "        if name == \"Configuration\":\n",
    "            sub_g = nx.Graph(sub_g)\n",
    "            sub_g.remove_edges_from(nx.selfloop_edges(sub_g))\n",
    "        p = nx.average_shortest_path_length(sub_g)\n",
    "        coef = nx.average_clustering(sub_g)\n",
    "        print(f\"{name} \\t\\t {p} \\t {coef}\")"
   ]
  },
  {
   "cell_type": "markdown",
   "metadata": {},
   "source": [
    "Using the qualities and properties of the respective network models, reason about the following social network phenomena being or not being present in the coauthorship network:\n",
    "- small-world phenomenon\n",
    "- hubs\n",
    "- rich-get-richer phenomenon\n",
    "- local structure\n",
    "\n",
    "Clearly indicate which network model and model property you use to come to your conclusion about each of the above phenomena. Further, incorporate your visualization from (a) into your reasoning as additional (not exclusive) source for explanations."
   ]
  },
  {
   "cell_type": "markdown",
   "metadata": {},
   "source": []
  }
 ],
 "metadata": {
  "kernelspec": {
   "display_name": "Python 3.10.0 ('.venv': venv)",
   "language": "python",
   "name": "python3"
  },
  "language_info": {
   "codemirror_mode": {
    "name": "ipython",
    "version": 3
   },
   "file_extension": ".py",
   "mimetype": "text/x-python",
   "name": "python",
   "nbconvert_exporter": "python",
   "pygments_lexer": "ipython3",
   "version": "3.10.0"
  },
  "orig_nbformat": 4,
  "vscode": {
   "interpreter": {
    "hash": "04c85707f422f970f003d1fa3d3dee0d099d9930ececba3cc9ee67c0f3e680ed"
   }
  }
 },
 "nbformat": 4,
 "nbformat_minor": 2
}
