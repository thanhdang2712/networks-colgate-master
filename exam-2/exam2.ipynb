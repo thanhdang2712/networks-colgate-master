{
 "cells": [
  {
   "cell_type": "code",
   "execution_count": 58,
   "metadata": {},
   "outputs": [],
   "source": [
    "import networkx as nx\n",
    "import math\n",
    "from matplotlib import pyplot as plt\n",
    "import numpy as np"
   ]
  },
  {
   "cell_type": "markdown",
   "metadata": {},
   "source": [
    "# Coauthorship Network Analysis"
   ]
  },
  {
   "cell_type": "markdown",
   "metadata": {},
   "source": [
    "In problem you will analyze a real social network representing the coauthorships of scientists working on network theory and experiment. First, read the data\n",
    "from the `netscience.gml` file."
   ]
  },
  {
   "cell_type": "code",
   "execution_count": 4,
   "metadata": {},
   "outputs": [],
   "source": [
    "# Read the graph."
   ]
  },
  {
   "cell_type": "markdown",
   "metadata": {},
   "source": [
    "Extract the giant component and create an unweighted graph."
   ]
  },
  {
   "cell_type": "code",
   "execution_count": 1,
   "metadata": {},
   "outputs": [],
   "source": [
    "# Extract component.\n",
    "\n",
    "# Convert into subgraph."
   ]
  },
  {
   "cell_type": "markdown",
   "metadata": {},
   "source": [
    "Use Gephi to visualize the graph."
   ]
  },
  {
   "cell_type": "markdown",
   "metadata": {},
   "source": [
    "Compute the following statistics:\n",
    "- average path length (report it)\n",
    "- average clustering coefficient (report it)\n",
    "- degree distribution (plot it using linear axis and the log-log scale)"
   ]
  },
  {
   "cell_type": "code",
   "execution_count": 2,
   "metadata": {},
   "outputs": [],
   "source": [
    "# Average path length\n",
    "\n",
    "# Average clustering coefficient\n",
    "\n",
    "# Degree distribution\n",
    "\n",
    "# Plots"
   ]
  },
  {
   "cell_type": "markdown",
   "metadata": {},
   "source": [
    "Construct graphs from the following network models using the indicated parameters and compute the above statistics for each one of them:\n",
    "- ER-random graph (use G(n, m) with n = 379 and m is the number of edges in G\n",
    "- Configuration model (n = 379 and degree sequence as computed in part (b))\n",
    "- BA-graph with $n_0 = 10, p_0 = 0.6$ and $m_0 = d/2$ "
   ]
  },
  {
   "cell_type": "code",
   "execution_count": 6,
   "metadata": {},
   "outputs": [],
   "source": [
    "# The following function can return m_0:\n",
    "D = lambda g: math.floor(sum([v[1] for _,v in enumerate(g.degree())])/len(g.nodes())/2)\n",
    "\n",
    "# Erdos-Renyi\n",
    "\n",
    "# Configuration\n",
    "\n",
    "# Barabasi-Albert\n",
    "\n"
   ]
  },
  {
   "cell_type": "markdown",
   "metadata": {},
   "source": [
    "Report average path length and average clustering coefficient (for the real social network as computed in (b) and all models as computed in (c)) in a table and compare them. Include both versions for the plots of the degree distributions for all models and the real data – try to put them all one one page for easier comparison. Which model models G best for which statistics? Argue whether there is a clear \"best\" model that represents the coauthorship network most accurately"
   ]
  },
  {
   "cell_type": "code",
   "execution_count": null,
   "metadata": {},
   "outputs": [],
   "source": [
    "\n"
   ]
  },
  {
   "cell_type": "markdown",
   "metadata": {},
   "source": [
    "Using the qualities and properties of the respective network models, reason about the following social network phenomena being or not being present in the coauthorship network:\n",
    "- small-world phenomenon\n",
    "- hubs\n",
    "- rich-get-richer phenomenon\n",
    "- local structure\n",
    "\n",
    "Clearly indicate which network model and model property you use to come to your conclusion about each of the above phenomena. Further, incorporate your visualization from (a) into your reasoning as additional (not exclusive) source for explanations."
   ]
  },
  {
   "cell_type": "markdown",
   "metadata": {},
   "source": []
  }
 ],
 "metadata": {
  "kernelspec": {
   "display_name": "Python 3.10.0 ('.venv': venv)",
   "language": "python",
   "name": "python3"
  },
  "language_info": {
   "codemirror_mode": {
    "name": "ipython",
    "version": 3
   },
   "file_extension": ".py",
   "mimetype": "text/x-python",
   "name": "python",
   "nbconvert_exporter": "python",
   "pygments_lexer": "ipython3",
   "version": "3.10.0"
  },
  "orig_nbformat": 4,
  "vscode": {
   "interpreter": {
    "hash": "04c85707f422f970f003d1fa3d3dee0d099d9930ececba3cc9ee67c0f3e680ed"
   }
  }
 },
 "nbformat": 4,
 "nbformat_minor": 2
}
