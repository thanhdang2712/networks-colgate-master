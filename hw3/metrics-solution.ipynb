{
 "cells": [
  {
   "cell_type": "code",
   "execution_count": 1,
   "metadata": {},
   "outputs": [],
   "source": [
    "import networkx as nx\n",
    "import numpy as np\n",
    "from matplotlib import pyplot as plt"
   ]
  },
  {
   "cell_type": "markdown",
   "metadata": {},
   "source": [
    "# Who is the most central actor?"
   ]
  },
  {
   "cell_type": "markdown",
   "metadata": {},
   "source": [
    "Your task is to identify the most central actor an actor network, but you are not sure which\n",
    "centrality measure to use. So you will try two of them: degree and betweenness. The data we use was derived from the IMDB movie database for the 2005 Graph Drawing\n",
    "conference. Note that the actual computation and run time for the code you will produce for the following question could take many minutes to run so please start early.\n",
    "\n",
    "Compute the following just for actors within the largest (weakly) connected component (LCC)\n",
    "of the actor network. "
   ]
  },
  {
   "cell_type": "code",
   "execution_count": 2,
   "metadata": {},
   "outputs": [],
   "source": [
    "# Load the graph\n",
    "G = nx.read_edgelist(\"actor.edgelist.txt\")"
   ]
  },
  {
   "cell_type": "markdown",
   "metadata": {},
   "source": [
    "## Degree centrality \n",
    "Compute the degree centrality for all actors in the LCC and list the 20 actors with\n",
    "the highest degree."
   ]
  },
  {
   "cell_type": "code",
   "execution_count": 4,
   "metadata": {},
   "outputs": [],
   "source": [
    "d_cent = nx.degree_centrality(G)\n",
    "d_cent_keys = [k for k, _ in sorted(d_cent.items(), key=lambda item: item[1], reverse=True)]\n",
    "d_cent_keys[:20]"
   ]
  },
  {
   "cell_type": "markdown",
   "metadata": {},
   "source": [
    "- Compute the betweenness centrality for all actors in the LCC and list the 20 actors with the highest betweenness. Only a couple of actors with top degree centrality\n",
    "remain on this list."
   ]
  },
  {
   "cell_type": "code",
   "execution_count": 12,
   "metadata": {},
   "outputs": [],
   "source": [
    "d_bet = nx.betweenness_centrality(G)\n",
    "d_bet_keys = [k for k, _ in sorted(d_bet.items(), key=lambda item: item[1], reverse=True)]\n",
    "d_bet_keys[:20]"
   ]
  },
  {
   "cell_type": "code",
   "execution_count": null,
   "metadata": {},
   "outputs": [],
   "source": []
  }
 ],
 "metadata": {
  "interpreter": {
   "hash": "04c85707f422f970f003d1fa3d3dee0d099d9930ececba3cc9ee67c0f3e680ed"
  },
  "kernelspec": {
   "display_name": "Python 3.10.0 ('.venv': venv)",
   "language": "python",
   "name": "python3"
  },
  "language_info": {
   "codemirror_mode": {
    "name": "ipython",
    "version": 3
   },
   "file_extension": ".py",
   "mimetype": "text/x-python",
   "name": "python",
   "nbconvert_exporter": "python",
   "pygments_lexer": "ipython3",
   "version": "3.10.0"
  },
  "orig_nbformat": 4
 },
 "nbformat": 4,
 "nbformat_minor": 2
}
