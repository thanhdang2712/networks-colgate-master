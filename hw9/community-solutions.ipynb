{
 "cells": [
  {
   "cell_type": "code",
   "execution_count": 1,
   "metadata": {},
   "outputs": [],
   "source": [
    "import networkx as nx\n",
    "from networkx.algorithms.community import greedy_modularity_communities, girvan_newman, modularity\n",
    "from sklearn.cluster import SpectralClustering\n",
    "import cProfile\n",
    "import io\n",
    "from contextlib import redirect_stdout\n",
    "\n",
    "prof = cProfile.Profile()"
   ]
  },
  {
   "cell_type": "markdown",
   "metadata": {},
   "source": [
    "# Community Detection"
   ]
  },
  {
   "cell_type": "code",
   "execution_count": 2,
   "metadata": {},
   "outputs": [],
   "source": [
    "G = nx.read_gml(\"karate.gml\", label=None)"
   ]
  },
  {
   "cell_type": "markdown",
   "metadata": {},
   "source": [
    "## Statistics"
   ]
  },
  {
   "cell_type": "code",
   "execution_count": 3,
   "metadata": {},
   "outputs": [],
   "source": [
    "# Number of nodes\n",
    "n = G.number_of_nodes\n",
    "\n",
    "# Number of edges\n",
    "e = G.number_of_edges\n",
    "\n",
    "# Average path length\n",
    "p = nx.average_shortest_path_length(G)\n",
    "\n",
    "# Average clustering coefficient\n",
    "c = nx.average_clustering(G)"
   ]
  },
  {
   "cell_type": "markdown",
   "metadata": {},
   "source": [
    "## Community Detection"
   ]
  },
  {
   "cell_type": "markdown",
   "metadata": {},
   "source": [
    "### Girvan-Newman"
   ]
  },
  {
   "cell_type": "code",
   "execution_count": 4,
   "metadata": {},
   "outputs": [],
   "source": [
    "com = girvan_newman(G)\n",
    "gn = tuple(sorted(c) for c in next(com))"
   ]
  },
  {
   "cell_type": "markdown",
   "metadata": {},
   "source": [
    "### Modularity"
   ]
  },
  {
   "cell_type": "code",
   "execution_count": 106,
   "metadata": {},
   "outputs": [],
   "source": [
    "mod = greedy_modularity_communities(G)"
   ]
  },
  {
   "cell_type": "markdown",
   "metadata": {},
   "source": [
    "### Spectral"
   ]
  },
  {
   "cell_type": "code",
   "execution_count": 108,
   "metadata": {},
   "outputs": [
    {
     "name": "stderr",
     "output_type": "stream",
     "text": [
      "/Users/tazmilur/Academics/networks-colgate/.venv/lib/python3.10/site-packages/sklearn/utils/validation.py:727: FutureWarning: np.matrix usage is deprecated in 1.0 and will raise a TypeError in 1.2. Please convert to a numpy array with np.asarray. For more information see: https://numpy.org/doc/stable/reference/generated/numpy.matrix.html\n",
      "  warnings.warn(\n"
     ]
    }
   ],
   "source": [
    "# Find clusters.\n",
    "adj_mat = nx.to_numpy_matrix(G)\n",
    "sc = SpectralClustering(2, affinity='precomputed', n_init=100)\n",
    "sc.fit(adj_mat)\n",
    "\n",
    "# Convert Scikit form to set form.\n",
    "labels = sc.labels_\n",
    "spectral = {x: [] for x in set(labels)}\n",
    "for idx, lbl in enumerate(labels):\n",
    "    spectral[lbl].append(idx)"
   ]
  },
  {
   "cell_type": "markdown",
   "metadata": {},
   "source": [
    "### Metrics"
   ]
  },
  {
   "cell_type": "code",
   "execution_count": 36,
   "metadata": {},
   "outputs": [],
   "source": [
    "# Number of communities\n",
    "n_mod = len(mod)\n",
    "n_gn = len(gn)\n",
    "n_spectral = len(spectral.keys())"
   ]
  },
  {
   "cell_type": "code",
   "execution_count": 113,
   "metadata": {},
   "outputs": [
    {
     "data": {
      "text/plain": [
       "0.3806706114398422"
      ]
     },
     "execution_count": 113,
     "metadata": {},
     "output_type": "execute_result"
    }
   ],
   "source": [
    "# Modularity score\n",
    "modularity(G, mod)"
   ]
  },
  {
   "cell_type": "code",
   "execution_count": 82,
   "metadata": {},
   "outputs": [
    {
     "name": "stdout",
     "output_type": "stream",
     "text": [
      "         1510 function calls in 0.001 seconds\n",
      "\n",
      "   Ordered by: standard name\n",
      "\n",
      "   ncalls  tottime  percall  cumtime  percall filename:lineno(function)\n",
      "        1    0.000    0.000    0.000    0.000 1664545460.py:1(<cell line: 5>)\n",
      "        1    0.000    0.000    0.000    0.000 1664545460.py:1(<cell line: 8>)\n",
      "        1    0.000    0.000    0.000    0.000 4112078914.py:1(<cell line: 5>)\n",
      "        1    0.000    0.000    0.000    0.000 4112078914.py:1(<cell line: 8>)\n",
      "        1    0.000    0.000    0.000    0.000 574927993.py:1(<cell line: 5>)\n",
      "        1    0.000    0.000    0.000    0.000 574927993.py:1(<cell line: 8>)\n",
      "     1300    0.000    0.000    0.000    0.000 centrality.py:8(girvan_newman)\n",
      "        8    0.000    0.000    0.000    0.000 codeop.py:149(__call__)\n",
      "       16    0.000    0.000    0.000    0.000 compilerop.py:174(extra_flags)\n",
      "        8    0.000    0.000    0.000    0.000 contextlib.py:102(__init__)\n",
      "        8    0.000    0.000    0.000    0.000 contextlib.py:130(__enter__)\n",
      "        8    0.000    0.000    0.000    0.000 contextlib.py:139(__exit__)\n",
      "        8    0.000    0.000    0.000    0.000 contextlib.py:279(helper)\n",
      "       16    0.000    0.000    0.000    0.000 dis.py:452(findlinestarts)\n",
      "        8    0.000    0.000    0.000    0.000 interactiveshell.py:1192(user_global_ns)\n",
      "        8    0.000    0.000    0.000    0.000 interactiveshell.py:3215(_update_code_co_name)\n",
      "        8    0.000    0.000    0.000    0.000 interactiveshell.py:3313(compare)\n",
      "        8    0.000    0.000    0.001    0.000 interactiveshell.py:3362(run_code)\n",
      "        8    0.000    0.000    0.000    0.000 traitlets.py:643(get)\n",
      "        8    0.000    0.000    0.000    0.000 traitlets.py:675(__get__)\n",
      "        8    0.000    0.000    0.000    0.000 {built-in method builtins.compile}\n",
      "        8    0.000    0.000    0.001    0.000 {built-in method builtins.exec}\n",
      "       16    0.000    0.000    0.000    0.000 {built-in method builtins.getattr}\n",
      "        8    0.000    0.000    0.000    0.000 {built-in method builtins.hasattr}\n",
      "       24    0.000    0.000    0.000    0.000 {built-in method builtins.next}\n",
      "        8    0.000    0.000    0.000    0.000 {method 'co_lines' of 'code' objects}\n",
      "        4    0.000    0.000    0.000    0.000 {method 'disable' of '_lsprof.Profiler' objects}\n",
      "        8    0.000    0.000    0.000    0.000 {method 'replace' of 'code' objects}\n",
      "\n",
      "\n",
      "\n"
     ]
    }
   ],
   "source": [
    "# Runtime\n",
    "prof.enable()\n",
    "\n",
    "# Enter your code here\n",
    "for _ in range(100):\n",
    "    girvan_newman(G)\n",
    "\n",
    "prof.disable()\n",
    "f = io.StringIO()\n",
    "with redirect_stdout(f):\n",
    "    prof.print_stats()\n",
    "out = f.getvalue()\n",
    "print(out)"
   ]
  },
  {
   "cell_type": "markdown",
   "metadata": {},
   "source": [
    "## Representative Network"
   ]
  },
  {
   "cell_type": "code",
   "execution_count": 20,
   "metadata": {},
   "outputs": [
    {
     "data": {
      "image/png": "[encoded data removed]",
      "text/plain": [
       "<Figure size 432x288 with 1 Axes>"
      ]
     },
     "metadata": {},
     "output_type": "display_data"
    }
   ],
   "source": [
    "nodes = list(range(len(gn)))\n",
    "G_prime = nx.Graph()\n",
    "\n",
    "for i in nodes:\n",
    "    edges = set()\n",
    "    for n in gn[i]:\n",
    "        edges.update([x for _, x in G.edges(n)])\n",
    "    edges = edges - set(gn[i])\n",
    "\n",
    "    rep_edges = set()\n",
    "    for item in edges:\n",
    "        for idx, x in enumerate(gn):\n",
    "            if item in x:\n",
    "                rep_edges.add(idx)\n",
    "    \n",
    "    y = [(i, x) for x in rep_edges]\n",
    "    G_prime.add_edges_from(y)\n",
    "\n",
    "nx.draw(G_prime)\n",
    "    "
   ]
  },
  {
   "cell_type": "code",
   "execution_count": null,
   "metadata": {},
   "outputs": [],
   "source": []
  }
 ],
 "metadata": {
  "kernelspec": {
   "display_name": "Python 3.10.0 ('.venv': venv)",
   "language": "python",
   "name": "python3"
  },
  "language_info": {
   "codemirror_mode": {
    "name": "ipython",
    "version": 3
   },
   "file_extension": ".py",
   "mimetype": "text/x-python",
   "name": "python",
   "nbconvert_exporter": "python",
   "pygments_lexer": "ipython3",
   "version": "3.10.0"
  },
  "orig_nbformat": 4,
  "vscode": {
   "interpreter": {
    "hash": "04c85707f422f970f003d1fa3d3dee0d099d9930ececba3cc9ee67c0f3e680ed"
   }
  }
 },
 "nbformat": 4,
 "nbformat_minor": 2
}
