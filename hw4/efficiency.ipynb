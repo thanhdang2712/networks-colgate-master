{
 "cells": [
  {
   "cell_type": "code",
   "execution_count": 1,
   "metadata": {},
   "outputs": [],
   "source": [
    "import cProfile\n",
    "import io\n",
    "import networkx as nx\n",
    "from contextlib import redirect_stdout"
   ]
  },
  {
   "cell_type": "markdown",
   "metadata": {},
   "source": [
    "# Profiling\n",
    "\n",
    "The following code takes in an arbitrary graph, calculates the time taken to run common operations and prints it out."
   ]
  },
  {
   "cell_type": "code",
   "execution_count": 15,
   "metadata": {},
   "outputs": [],
   "source": [
    "prof = cProfile.Profile()\n",
    "\n",
    "def processProfile(output: str) -> str:\n",
    "    lines = output.split(\"\\n\")\n",
    "    for line in lines:\n",
    "        if \"breadth_first_search\" in line:\n",
    "            a = [x for x in line.split(' ') if x != '']\n",
    "            a = \" \".join(a[-3:])\n",
    "            return a\n",
    "\n",
    "def profile(graph) -> None:\n",
    "    prof.enable()\n",
    "    list(nx.bfs_edges(graph, 0))\n",
    "    prof.disable()\n",
    "    f = io.StringIO()\n",
    "    with redirect_stdout(f):\n",
    "        prof.print_stats()\n",
    "    out = f.getvalue()\n",
    "    out = processProfile(out)\n",
    "    print(out)"
   ]
  },
  {
   "cell_type": "markdown",
   "metadata": {},
   "source": [
    "For example, consider the following simple graph."
   ]
  },
  {
   "cell_type": "code",
   "execution_count": 16,
   "metadata": {},
   "outputs": [
    {
     "name": "stdout",
     "output_type": "stream",
     "text": [
      "0.064 0.000 breadth_first_search.py:15(generic_bfs_edges)\n"
     ]
    }
   ],
   "source": [
    "G = nx.complete_graph(500)\n",
    "profile(G)"
   ]
  },
  {
   "cell_type": "markdown",
   "metadata": {},
   "source": [
    "Experiment with this program on nodes of different sizes (50, 500, 5000) and sparsity and analyze how the running time varies."
   ]
  },
  {
   "cell_type": "code",
   "execution_count": null,
   "metadata": {},
   "outputs": [],
   "source": []
  }
 ],
 "metadata": {
  "interpreter": {
   "hash": "04c85707f422f970f003d1fa3d3dee0d099d9930ececba3cc9ee67c0f3e680ed"
  },
  "kernelspec": {
   "display_name": "Python 3.10.0 ('.venv': venv)",
   "language": "python",
   "name": "python3"
  },
  "language_info": {
   "codemirror_mode": {
    "name": "ipython",
    "version": 3
   },
   "file_extension": ".py",
   "mimetype": "text/x-python",
   "name": "python",
   "nbconvert_exporter": "python",
   "pygments_lexer": "ipython3",
   "version": "3.10.0"
  },
  "orig_nbformat": 4
 },
 "nbformat": 4,
 "nbformat_minor": 2
}
