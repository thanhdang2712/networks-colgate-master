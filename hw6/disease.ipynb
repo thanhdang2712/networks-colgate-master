{
 "cells": [
  {
   "cell_type": "code",
   "execution_count": null,
   "metadata": {},
   "outputs": [],
   "source": [
    "import networkx as nx\n",
    "from numpy.random import choice\n",
    "from numpy import mean\n",
    "from scipy.stats import chi2_contingency, mannwhitneyu"
   ]
  },
  {
   "cell_type": "markdown",
   "metadata": {},
   "source": [
    "# SIR Model"
   ]
  },
  {
   "cell_type": "code",
   "execution_count": null,
   "metadata": {},
   "outputs": [],
   "source": [
    "def SIR(g, infected: list[int], beta: float, theta: float):\n",
    "    # Susceptible set\n",
    "    S = set(g.nodes)\n",
    "    S.difference_update(infected)\n",
    "\n",
    "    # Infected and recovered set\n",
    "    I = set(infected)\n",
    "    R = set()\n",
    "\n",
    "    # While I is not empty\n",
    "    while I:\n",
    "        for u in g.nodes:\n",
    "            # If u is susceptible ...\n",
    "            if u in S:\n",
    "                for _, e in g.edges(u):\n",
    "                    # ... and has an edge with an infected node\n",
    "                    if e in I:\n",
    "                        # Random draw to see if u becomes infected.\n",
    "                        draw = choice(a = [True, False], size = 1, p = [beta, 1-beta])\n",
    "                        if draw:\n",
    "                            S.remove(u)\n",
    "                            I.add(u)\n",
    "                            break\n",
    "            # if u is infected\n",
    "            elif u in I:\n",
    "                # Draw to see if u recovers\n",
    "                draw = choice(a = [True, False], size = 1, p = [theta, 1-theta])\n",
    "                if draw:\n",
    "                    I.remove(u)\n",
    "                    R.add(u)\n",
    "\n",
    "    # Return proportion of population that got infected\n",
    "    return len(R) / g.number_of_nodes()"
   ]
  },
  {
   "cell_type": "markdown",
   "metadata": {},
   "source": [
    "## Synthetic Networks"
   ]
  },
  {
   "cell_type": "markdown",
   "metadata": {},
   "source": [
    "- Create an Erdos-Renyi graph with  nodes and  edges.\n",
    "- Create a Barabasi-Albert graph with  nodes and an appropriate number of edges  such that number of edges that is not too far from ."
   ]
  },
  {
   "cell_type": "code",
<<<<<<< HEAD
   "execution_count": 2,
=======
   "execution_count": null,
>>>>>>> 83e4fd0de34af37d733cfdffad95e2da35bc86a1
   "metadata": {},
   "outputs": [],
   "source": [
    "# (b)\n",
<<<<<<< HEAD
    "\n",
    "# (c)"
=======
    "er = nx.gnm_random_graph(500, 200)\n",
    "\n",
    "# (c)\n",
    "ba = nx.barabasi_albert_graph(500, 75)"
>>>>>>> 83e4fd0de34af37d733cfdffad95e2da35bc86a1
   ]
  },
  {
   "cell_type": "markdown",
   "metadata": {},
   "source": [
<<<<<<< HEAD
    "- Run 100 simulations with $\\beta = 0.05$ and $\\delta = 0.5$ for both graphs. Initialize the infected set with a single node chosen uniformly at random. Record the total percentage of nodes that became infected in each simulation."
=======
    "- Run 100 simulations with  and  for both graphs. Initialize the infected set with a single node chosen uniformly at random. Record the total percentage of nodes that became infected in each simulation."
>>>>>>> 83e4fd0de34af37d733cfdffad95e2da35bc86a1
   ]
  },
  {
   "cell_type": "code",
<<<<<<< HEAD
   "execution_count": 3,
   "metadata": {},
   "outputs": [
    {
     "name": "stdout",
     "output_type": "stream",
     "text": [
      "[1, 4, 9, 16, 25]\n"
     ]
    }
   ],
   "source": [
    "# Note that the SIR function returns the proportion of population that got infected.\n",
    "# If you have a function F and a list L, you can use list comprehension to apply the function\n",
    "# to every element of F. For example.\n",
    "\n",
    "lst = [1,2,3,4,5]\n",
    "squared_list = [x ** 2 for x in lst]\n",
    "print(squared_list)\n",
    "\n",
    "# (d)"
=======
   "execution_count": null,
   "metadata": {},
   "outputs": [],
   "source": [
    "initial = np.random.randint(0, 1000, size=100)\n",
    "beta = 0.05\n",
    "delta = 0.5\n",
    "\n",
    "# (d)\n",
    "sim_er = [SIR(er, [x], beta, delta) for x in initial]\n",
    "sim_ba = [SIR(ba, [x], beta, delta) for x in initial]"
>>>>>>> 83e4fd0de34af37d733cfdffad95e2da35bc86a1
   ]
  },
  {
   "cell_type": "markdown",
   "metadata": {},
   "source": [
    "## Epidemics\n",
    "\n",
    "- We will consider each run that infected at least 50% of the network as an epidemic. For both graphs compute and report the proportion of simulations that turned into epidemics. "
   ]
  },
  {
   "cell_type": "code",
<<<<<<< HEAD
   "execution_count": 1,
   "metadata": {},
   "outputs": [
    {
     "name": "stdout",
     "output_type": "stream",
     "text": [
      "[1, 2]\n"
     ]
    }
   ],
   "source": [
    "# You can also use list comprehensions with conditional expressions. For example...\n",
    "pos_and_negs = [1,-1,2,-2]\n",
    "pos_only = [x for x in pos_and_negs if x > 0]\n",
    "print(pos_only)"
=======
   "execution_count": null,
   "metadata": {},
   "outputs": [],
   "source": [
    "prop_er = [x for x in sim_er if x >= 0.5]\n",
    "prop_ba = [x for x in sim_ba if x >= 0.5]\n",
    "print(f\" Type \\t\\t\\t Proportion\\n Erdos-Renyi \\t\\t {len(prop_er)/100}\\n Barabasi-Albert \\t {len(prop_ba)/100}\")"
>>>>>>> 83e4fd0de34af37d733cfdffad95e2da35bc86a1
   ]
  },
  {
   "cell_type": "markdown",
   "metadata": {},
   "source": [
    "- Use pairwise chi-square tests to see whether or not the observed differences are actually significant."
   ]
  },
  {
   "cell_type": "code",
   "execution_count": null,
   "metadata": {},
   "outputs": [],
<<<<<<< HEAD
   "source": []
  },
  {
   "cell_type": "markdown",
   "metadata": {},
   "source": [
    "- Does the Erdos-Rényi graph appear to be more or less susceptible to epi-demics than the Barabasi-Albert graph?"
=======
   "source": [
    "chi2, p, _, _ = chi2_contingency([[len(prop_er), 100-len(prop_er)],[len(prop_ba), 100-len(prop_ba)]])\n",
    "print(f\"The Chi-Square score is {chi2} with a p-value of {p}\")"
>>>>>>> 83e4fd0de34af37d733cfdffad95e2da35bc86a1
   ]
  },
  {
   "cell_type": "markdown",
   "metadata": {},
<<<<<<< HEAD
   "source": []
=======
   "source": [
    "- Does the Erdos-Rényi graph appear to be more or less susceptible to epi-demics than the Barabasi-Albert graph?\n",
    "\n",
    "Answer: Less"
   ]
>>>>>>> 83e4fd0de34af37d733cfdffad95e2da35bc86a1
  },
  {
   "cell_type": "markdown",
   "metadata": {},
   "source": [
    "- For each network, consider only trials that became epidemics and compute and report the mean proportion of individuals infected in each network."
   ]
  },
  {
   "cell_type": "code",
   "execution_count": null,
   "metadata": {},
   "outputs": [],
<<<<<<< HEAD
   "source": []
=======
   "source": [
    "prop_er_mean = mean(prop_er) if len(prop_er) > 0 else 0.\n",
    "prop_ba_mean = mean(prop_ba)\n",
    "print(f\" Network type \\t\\t Mean Proportion\\n Erdos-Renyi \\t\\t {prop_er_mean}\\n Barabasi-Albert \\t {prop_ba_mean}\")"
   ]
>>>>>>> 83e4fd0de34af37d733cfdffad95e2da35bc86a1
  },
  {
   "cell_type": "markdown",
   "metadata": {},
   "source": [
    "- Use the Mann-Whitney U test to test whether the networks differ significantly in how much the infection spreads, conditioned on it being an epidemic."
   ]
  },
  {
   "cell_type": "code",
   "execution_count": null,
   "metadata": {},
   "outputs": [],
   "source": [
<<<<<<< HEAD
    "\n"
=======
    "mannwhitneyu(prop_er, prop_ba)"
>>>>>>> 83e4fd0de34af37d733cfdffad95e2da35bc86a1
   ]
  },
  {
   "cell_type": "markdown",
   "metadata": {},
   "source": [
<<<<<<< HEAD
    "- In cases where an epidemic does take off, does Erdos-Rényi graph appear to have higher or lower final percentage infected?"
=======
    "- In cases where an epidemic does take off, does Erdos-Rényi graph appear to have higher or lower final percentage infected?\n",
    "\n",
    "Answer: Lower"
>>>>>>> 83e4fd0de34af37d733cfdffad95e2da35bc86a1
   ]
  },
  {
   "cell_type": "markdown",
   "metadata": {},
   "source": [
    "## Degree & Epidemics"
   ]
  },
  {
   "cell_type": "markdown",
   "metadata": {},
   "source": [
    "- Rerun 100 simulations as above but with the different initial starting conditions."
   ]
  },
  {
   "cell_type": "code",
   "execution_count": null,
   "metadata": {},
   "outputs": [],
<<<<<<< HEAD
   "source": []
=======
   "source": [
    "initial_er = sorted(er.degree, key=lambda x: x[1], reverse=True)[0][0]\n",
    "initial_ba = sorted(ba.degree, key=lambda x: x[1], reverse=True)[0][0]\n",
    "\n",
    "sim_er_two = [SIR(er, [initial_er], beta, delta) for _ in list(range(100))]\n",
    "sim_ba_two = [SIR(ba, [initial_ba], beta, delta) for _ in list(range(100))]"
   ]
>>>>>>> 83e4fd0de34af37d733cfdffad95e2da35bc86a1
  },
  {
   "cell_type": "markdown",
   "metadata": {},
   "source": [
    "- Compute and report the relative increase in the average proportion of people infected for both the Erdos-Rényi graph and Preferential Attachment graphs"
   ]
  },
  {
   "cell_type": "code",
   "execution_count": null,
   "metadata": {},
   "outputs": [],
<<<<<<< HEAD
   "source": []
=======
   "source": [
    "prop_er_two = [x for x in sim_er_two if x >= 0.5]\n",
    "prop_ba_two = [x for x in sim_ba_two if x >= 0.5]\n",
    "print(f\" Type \\t\\t\\t Proportion\\n Erdos-Renyi \\t\\t {len(prop_er)/100}\\n Barabasi-Albert \\t {len(prop_ba)/100}\")"
   ]
>>>>>>> 83e4fd0de34af37d733cfdffad95e2da35bc86a1
  },
  {
   "cell_type": "markdown",
   "metadata": {},
   "source": [
    "- Compare the difference of the simulations w.r.t. the two ways of selecting the starting node using the Mann-Whitney U test."
   ]
  },
  {
   "cell_type": "code",
   "execution_count": null,
   "metadata": {},
   "outputs": [],
<<<<<<< HEAD
   "source": []
=======
   "source": [
    "mannwhitneyu(prop_er_two, prop_ba_two)"
   ]
>>>>>>> 83e4fd0de34af37d733cfdffad95e2da35bc86a1
  },
  {
   "cell_type": "markdown",
   "metadata": {},
   "source": [
    "- Which of these two graphs seem to be more impacted by selecting the node with the highest degree? Why?"
   ]
  },
  {
   "cell_type": "markdown",
   "metadata": {},
   "source": [
    "## Community & Epidemics\n",
    "\n",
    "- Run 100 simulations for the Jazz musicians network and compare the results to the synthetic networks.\n"
   ]
  },
  {
   "cell_type": "code",
   "execution_count": null,
   "metadata": {},
   "outputs": [],
   "source": [
    "jazz = nx.read_pajek('jazz.net')"
   ]
  },
  {
   "cell_type": "markdown",
   "metadata": {},
   "source": [
    "- Does the real network appear to be more or less susceptible to epidemics than the synthetic graphs? In cases where an epidemic does take off, does the real network appear to have higher or lower final percentage infected?"
   ]
  },
  {
   "cell_type": "markdown",
   "metadata": {},
   "source": [
    "- What does this imply about the impact of communities on the spread of epidemics?"
   ]
  },
  {
   "cell_type": "markdown",
   "metadata": {},
   "source": []
  }
 ],
 "metadata": {
  "kernelspec": {
   "display_name": "Python 3.10.0 ('.venv': venv)",
   "language": "python",
   "name": "python3"
  },
  "language_info": {
   "codemirror_mode": {
    "name": "ipython",
    "version": 3
   },
   "file_extension": ".py",
   "mimetype": "text/x-python",
   "name": "python",
   "nbconvert_exporter": "python",
   "pygments_lexer": "ipython3",
   "version": "3.10.0"
  },
  "orig_nbformat": 4,
  "vscode": {
   "interpreter": {
    "hash": "04c85707f422f970f003d1fa3d3dee0d099d9930ececba3cc9ee67c0f3e680ed"
   }
  }
 },
 "nbformat": 4,
 "nbformat_minor": 2
}
