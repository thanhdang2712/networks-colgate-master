{
 "cells": [
  {
   "cell_type": "markdown",
   "metadata": {},
   "source": [
    "# Facebook Social Circles\n",
    "\n",
    "In 2012, Julian McAuley and Jure Leskovec devised a novel method of identifying people's social circles by analyzing data collected from Facebook, Twitter and Google+.\n",
    "In this case study, we will use the Facebook dataset -- which is provided alongside this notebook -- to perform some basic network analysis. "
   ]
  },
  {
   "cell_type": "code",
   "execution_count": 2,
   "metadata": {},
   "outputs": [],
   "source": [
    "import pandas as pd\n",
    "import numpy as np\n",
    "import networkx as nx\n",
    "import matplotlib.pyplot as plt"
   ]
  },
  {
   "cell_type": "markdown",
   "metadata": {},
   "source": [
    "We can load the dataset and save it into a table by executing the following code block."
   ]
  },
  {
   "cell_type": "code",
   "execution_count": 3,
   "metadata": {},
   "outputs": [
    {
     "data": {
      "text/html": [
       "<div>\n",
       "<style scoped>\n",
       "    .dataframe tbody tr th:only-of-type {\n",
       "        vertical-align: middle;\n",
       "    }\n",
       "\n",
       "    .dataframe tbody tr th {\n",
       "        vertical-align: top;\n",
       "    }\n",
       "\n",
       "    .dataframe thead th {\n",
       "        text-align: right;\n",
       "    }\n",
       "</style>\n",
       "<table border=\"1\" class=\"dataframe\">\n",
       "  <thead>\n",
       "    <tr style=\"text-align: right;\">\n",
       "      <th></th>\n",
       "      <th>start_node</th>\n",
       "      <th>end_node</th>\n",
       "    </tr>\n",
       "  </thead>\n",
       "  <tbody>\n",
       "    <tr>\n",
       "      <th>0</th>\n",
       "      <td>0</td>\n",
       "      <td>1</td>\n",
       "    </tr>\n",
       "    <tr>\n",
       "      <th>1</th>\n",
       "      <td>0</td>\n",
       "      <td>2</td>\n",
       "    </tr>\n",
       "    <tr>\n",
       "      <th>2</th>\n",
       "      <td>0</td>\n",
       "      <td>3</td>\n",
       "    </tr>\n",
       "    <tr>\n",
       "      <th>3</th>\n",
       "      <td>0</td>\n",
       "      <td>4</td>\n",
       "    </tr>\n",
       "    <tr>\n",
       "      <th>4</th>\n",
       "      <td>0</td>\n",
       "      <td>5</td>\n",
       "    </tr>\n",
       "    <tr>\n",
       "      <th>...</th>\n",
       "      <td>...</td>\n",
       "      <td>...</td>\n",
       "    </tr>\n",
       "    <tr>\n",
       "      <th>88229</th>\n",
       "      <td>4026</td>\n",
       "      <td>4030</td>\n",
       "    </tr>\n",
       "    <tr>\n",
       "      <th>88230</th>\n",
       "      <td>4027</td>\n",
       "      <td>4031</td>\n",
       "    </tr>\n",
       "    <tr>\n",
       "      <th>88231</th>\n",
       "      <td>4027</td>\n",
       "      <td>4032</td>\n",
       "    </tr>\n",
       "    <tr>\n",
       "      <th>88232</th>\n",
       "      <td>4027</td>\n",
       "      <td>4038</td>\n",
       "    </tr>\n",
       "    <tr>\n",
       "      <th>88233</th>\n",
       "      <td>4031</td>\n",
       "      <td>4038</td>\n",
       "    </tr>\n",
       "  </tbody>\n",
       "</table>\n",
       "<p>88234 rows × 2 columns</p>\n",
       "</div>"
      ],
      "text/plain": [
       "       start_node  end_node\n",
       "0               0         1\n",
       "1               0         2\n",
       "2               0         3\n",
       "3               0         4\n",
       "4               0         5\n",
       "...           ...       ...\n",
       "88229        4026      4030\n",
       "88230        4027      4031\n",
       "88231        4027      4032\n",
       "88232        4027      4038\n",
       "88233        4031      4038\n",
       "\n",
       "[88234 rows x 2 columns]"
      ]
     },
     "execution_count": 3,
     "metadata": {},
     "output_type": "execute_result"
    }
   ],
   "source": [
    "facebook = pd.read_csv('facebook_combined.txt', sep=' ', names=['start_node', 'end_node'])\n",
    "facebook"
   ]
  },
  {
   "cell_type": "markdown",
   "metadata": {},
   "source": [
    "Each row in this table corresponds to an edge and each of the columns provide the starting and ending point of the edge, respectively. We can construct a graph\n",
    "from this table using the following code block."
   ]
  },
  {
   "cell_type": "code",
   "execution_count": 4,
   "metadata": {},
   "outputs": [],
   "source": [
    "G = nx.from_pandas_edgelist(facebook, 'start_node', 'end_node')"
   ]
  },
  {
   "cell_type": "markdown",
   "metadata": {},
   "source": [
    "You now have a graph of the social network -- this is an undirected, unweighted network where each node represents an anonymized Facebook user and each edge represents that they are friends on the platform. \n",
    "\n",
    "Please answer the following questions. Feel free to refer to the code examples shown in class and the networkx documentation."
   ]
  },
  {
   "cell_type": "markdown",
   "metadata": {},
   "source": [
    "### Overview [$\\star$]\n",
    "\n",
    "Find the number of nodes and edges in the graph"
   ]
  },
  {
   "cell_type": "code",
   "execution_count": 8,
   "metadata": {},
   "outputs": [
    {
     "name": "stdout",
     "output_type": "stream",
     "text": [
      "The number of nodes is 0 and edges is 0\n"
     ]
    }
   ],
   "source": [
    "n_nodes = 0 #Your code here. \n",
    "n_edges = 0 #Your code here.\n",
    "\n",
    "print(f\"The number of nodes is {n_nodes} and edges is {n_edges}\")"
   ]
  },
  {
   "cell_type": "markdown",
   "metadata": {},
   "source": [
    "### $k$ degrees of separation [$\\star$]\n",
    "\n",
    "We might be interested in seeing how many jumps it takes to go from one group of friends to another. Here, let's focus on a much simpler problem. If we start at some arbitrary node $a$, can we find another person $b$ in $k$ edge crossings?"
   ]
  },
  {
   "cell_type": "code",
   "execution_count": 12,
   "metadata": {},
   "outputs": [],
   "source": [
    "source = 0\n",
    "target = 3145\n",
    "k = 3\n",
    "\n",
    "# Your code here "
   ]
  },
  {
   "cell_type": "markdown",
   "metadata": {},
   "source": [
    "### Visualization [$\\star$]\n",
    "\n",
    "Choose a visualization method and produce a plot that captures the structure of the network. Describe what you have found."
   ]
  },
  {
   "cell_type": "code",
   "execution_count": 5,
   "metadata": {},
   "outputs": [
    {
     "data": {
      "text/plain": [
       "(0.0, 1.0, 0.0, 1.0)"
      ]
     },
     "execution_count": 5,
     "metadata": {},
     "output_type": "execute_result"
    },
    {
     "data": {
      "image/png": "[encoded data removed]",
      "text/plain": [
       "<Figure size 1080x648 with 1 Axes>"
      ]
     },
     "metadata": {
      "needs_background": "light"
     },
     "output_type": "display_data"
    }
   ],
   "source": [
    "fig, ax = plt.subplots(figsize=(15, 9))\n",
    "ax.axis('off')\n",
    "\n",
    "# Your code goes here.\n"
   ]
  },
  {
   "cell_type": "markdown",
   "metadata": {},
   "source": [
    "**Answer**:"
   ]
  },
  {
   "cell_type": "markdown",
   "metadata": {},
   "source": [
    "### Shortest Paths [$\\star$]\n",
    "\n",
    "Many measures and metrics utilize the number of shortest paths from some node to another, or the length of the shortest paths. Calculate the length of the shortest\n",
    "paths between all pairs of nodes."
   ]
  },
  {
   "cell_type": "code",
   "execution_count": 13,
   "metadata": {},
   "outputs": [],
   "source": [
    "# Your code here"
   ]
  },
  {
   "cell_type": "markdown",
   "metadata": {},
   "source": [
    "Using the newly found information, find the length of the shortest path between nodes $5$ and $142$."
   ]
  },
  {
   "cell_type": "code",
   "execution_count": 14,
   "metadata": {},
   "outputs": [],
   "source": [
    "# Your code here"
   ]
  },
  {
   "cell_type": "markdown",
   "metadata": {},
   "source": [
    "### Triadic Closure [$\\star \\star$]\n",
    "\n",
    "Consider three nodes $a,b$ and $c$ with edges $ab$ and $ac$. *Triadic closure* describes the tendency for the edge $bc$ to be formed in such a scenario. In our social network case, it means that it is common for people who have a mutual friend to be friends with each other. \n",
    "\n",
    "Calculate the number of triangles, transitivity score, the clustering coefficient and average clustering coefficient and plot the distribution of the clustering coefficient. Use this information to determine if there is any evidence of triadic closure in this social network."
   ]
  },
  {
   "cell_type": "code",
   "execution_count": null,
   "metadata": {},
   "outputs": [],
   "source": [
    "# Your code here"
   ]
  },
  {
   "cell_type": "code",
   "execution_count": 9,
   "metadata": {},
   "outputs": [
    {
     "data": {
      "text/plain": [
       "Text(0, 0.5, 'Counts')"
      ]
     },
     "execution_count": 9,
     "metadata": {},
     "output_type": "execute_result"
    },
    {
     "data": {
      "image/png": "[encoded data removed]",
      "text/plain": [
       "<Figure size 1080x576 with 1 Axes>"
      ]
     },
     "metadata": {
      "needs_background": "light"
     },
     "output_type": "display_data"
    }
   ],
   "source": [
    "# Plotting the distribution\n",
    "cluster_values = [] # Modify this\n",
    "\n",
    "plt.figure(figsize=(15,8))\n",
    "plt.hist(cluster_values, bins=50)\n",
    "plt.title('Clustering Coefficient Histogram ', fontdict ={'size': 35}, loc='center') \n",
    "plt.xlabel('Clustering Coefficient', fontdict ={'size': 20})\n",
    "plt.ylabel('Counts',fontdict ={'size': 20})"
   ]
  },
  {
   "cell_type": "markdown",
   "metadata": {},
   "source": [
    "### Bridges [$\\star \\star$]\n",
    "\n",
    "The existence of a bridge implies that two groups of friends are only connected through a single mutual friend, and the removal of that friend will disconnect\n",
    "these two groups. \n",
    "\n",
    "Find the list of bridges and highlight them in a similar visualization of the network."
   ]
  },
  {
   "cell_type": "code",
   "execution_count": 10,
   "metadata": {},
   "outputs": [
    {
     "data": {
      "text/plain": [
       "(0.0, 1.0, 0.0, 1.0)"
      ]
     },
     "execution_count": 10,
     "metadata": {},
     "output_type": "execute_result"
    },
    {
     "data": {
      "image/png": "[encoded data removed]",
      "text/plain": [
       "<Figure size 1080x576 with 1 Axes>"
      ]
     },
     "metadata": {
      "needs_background": "light"
     },
     "output_type": "display_data"
    }
   ],
   "source": [
    "# Find the list of local bridges...\n",
    "bridges = [] # your code here\n",
    "# .. and find the list of normal bridges\n",
    "local_bridges = [] # your code here\n",
    "\n",
    "plt.figure(figsize=(15,8))\n",
    "# Draw figure\n",
    "# Draw edges only for local bridges\n",
    "# Draw edges only for bridges\n",
    "plt.axis('off')"
   ]
  },
  {
   "cell_type": "markdown",
   "metadata": {},
   "source": [
    "### Popularity Contest [$\\star \\star \\star$]\n",
    "\n",
    "In the social network, the centrality score assigned to a particular node can be useful in determining the significance of the individual in that network.\n",
    "First, find the degree centrality of all of the nodes in the network."
   ]
  },
  {
   "cell_type": "code",
   "execution_count": 16,
   "metadata": {},
   "outputs": [],
   "source": [
    "degree_centrality = # Your code here"
   ]
  },
  {
   "cell_type": "markdown",
   "metadata": {},
   "source": [
    "Find the most popular $10$ nodes in this network.\n",
    "*Hint: Look for sorting functions that are included in Python*"
   ]
  },
  {
   "cell_type": "code",
   "execution_count": null,
   "metadata": {},
   "outputs": [],
   "source": [
    "# Your code here"
   ]
  },
  {
   "cell_type": "markdown",
   "metadata": {},
   "source": [
    "Plot the degree distribution of the network."
   ]
  },
  {
   "cell_type": "code",
   "execution_count": null,
   "metadata": {},
   "outputs": [],
   "source": [
    "plt.figure(figsize=(15,8))\n",
    "# Your code here\n",
    "plt.xticks(ticks=[0, 0.025, 0.05, 0.1, 0.15, 0.2])\n",
    "plt.title('Degree Centrality Histogram ', fontdict ={'size': 35}, loc='center') \n",
    "plt.xlabel('Degree Centrality', fontdict ={'size': 20})\n",
    "plt.ylabel('Counts',fontdict ={'size': 20})"
   ]
  },
  {
   "cell_type": "markdown",
   "metadata": {},
   "source": [
    "And finally, identify the nodes with the highest centralities."
   ]
  },
  {
   "cell_type": "code",
   "execution_count": 17,
   "metadata": {},
   "outputs": [
    {
     "data": {
      "text/plain": [
       "(0.0, 1.0, 0.0, 1.0)"
      ]
     },
     "execution_count": 17,
     "metadata": {},
     "output_type": "execute_result"
    },
    {
     "data": {
      "image/png": "[encoded data removed]",
      "text/plain": [
       "<Figure size 1080x576 with 1 Axes>"
      ]
     },
     "metadata": {
      "needs_background": "light"
     },
     "output_type": "display_data"
    }
   ],
   "source": [
    "# Find the significant nodes here.\n",
    "plt.figure(figsize=(15,8))\n",
    "# Draw the figure here.\n",
    "plt.axis('off')"
   ]
  },
  {
   "cell_type": "markdown",
   "metadata": {},
   "source": [
    "Repeat this procedure for the eigenvector and betweenness centralities and comment on the results you have found."
   ]
  },
  {
   "cell_type": "markdown",
   "metadata": {},
   "source": []
  }
 ],
 "metadata": {
  "kernelspec": {
   "display_name": "Python 3.10.0 ('.venv': venv)",
   "language": "python",
   "name": "python3"
  },
  "language_info": {
   "codemirror_mode": {
    "name": "ipython",
    "version": 3
   },
   "file_extension": ".py",
   "mimetype": "text/x-python",
   "name": "python",
   "nbconvert_exporter": "python",
   "pygments_lexer": "ipython3",
   "version": "3.10.0"
  },
  "orig_nbformat": 4,
  "vscode": {
   "interpreter": {
    "hash": "04c85707f422f970f003d1fa3d3dee0d099d9930ececba3cc9ee67c0f3e680ed"
   }
  }
 },
 "nbformat": 4,
 "nbformat_minor": 2
}
